{
 "cells": [
  {
   "attachments": {},
   "cell_type": "markdown",
   "metadata": {},
   "source": [
    "Please look at the task below and send us your resulting code by 09:00 GMT on Monday 27th of March. You can complete this in your own time, in a language of your choice; the task shouldn’t take more than a few hours to complete, but you are free to add additional features/embellishments if desired.\n",
    "\n",
    "Using the Real Time [flood-monitoring API](https://environment.data.gov.uk/flood-monitoring/doc/reference) provided by the Environmental Agency, please produce a tool (web page, script, desktop application etc.) that:\n",
    "\n",
    "·         Provides some control to select an individual measurement station.\n",
    "·         Once a singular station is selected, shows a line graph (with associated table) of that station’s readings over the last 24 hours.`\n",
    " \n",
    "Please try to create the tool with user-experience and professional software development standards in mind.\n",
    "\n",
    "Once received, we will review your approach then (if applicable) get in touch regarding a video call interview.\n",
    " \n",
    "Thank you & kind regards,\n",
    "Monika"
   ]
  },
  {
   "cell_type": "code",
   "execution_count": 2,
   "metadata": {},
   "outputs": [],
   "source": [
    "import streamlit as st\n",
    "import pandas as pd\n",
    "import numpy as np"
   ]
  },
  {
   "cell_type": "code",
   "execution_count": 3,
   "metadata": {},
   "outputs": [
    {
     "name": "stderr",
     "output_type": "stream",
     "text": [
      "2023-03-21 18:31:02.225 \n",
      "  \u001b[33m\u001b[1mWarning:\u001b[0m to view this Streamlit app on a browser, run it with the following\n",
      "  command:\n",
      "\n",
      "    streamlit run /Users/oisinpeppard/Library/Python/3.9/lib/python/site-packages/ipykernel_launcher.py [ARGUMENTS]\n"
     ]
    },
    {
     "data": {
      "text/plain": [
       "DeltaGenerator(_root_container=0, _provided_cursor=None, _parent=None, _block_type=None, _form_data=None)"
      ]
     },
     "execution_count": 3,
     "metadata": {},
     "output_type": "execute_result"
    }
   ],
   "source": [
    "st.title(\"Oisín's flood-monitoring tool\")"
   ]
  },
  {
   "cell_type": "code",
   "execution_count": null,
   "metadata": {},
   "outputs": [],
   "source": []
  },
  {
   "cell_type": "code",
   "execution_count": null,
   "metadata": {},
   "outputs": [],
   "source": []
  }
 ],
 "metadata": {
  "kernelspec": {
   "display_name": "Python 3",
   "language": "python",
   "name": "python3"
  },
  "language_info": {
   "codemirror_mode": {
    "name": "ipython",
    "version": 3
   },
   "file_extension": ".py",
   "mimetype": "text/x-python",
   "name": "python",
   "nbconvert_exporter": "python",
   "pygments_lexer": "ipython3",
   "version": "3.9.6"
  },
  "orig_nbformat": 4
 },
 "nbformat": 4,
 "nbformat_minor": 2
}
